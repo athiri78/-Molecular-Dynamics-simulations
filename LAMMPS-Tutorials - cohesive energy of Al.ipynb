{
 "cells": [
  {
   "cell_type": "markdown",
   "metadata": {},
   "source": [
    "# How do I use these QE tutorials in Jupyter Notebook?\n",
    "\n"
   ]
  },
  {
   "cell_type": "code",
   "execution_count": 1,
   "metadata": {},
   "outputs": [
    {
     "name": "stdout",
     "output_type": "stream",
     "text": [
      "Writing SCF_si.in\n"
     ]
    }
   ],
   "source": [
    "%%writefile SCF_si.in\n",
    "######################################\n",
    "\n",
    "&CONTROL\n",
    "! we want to perform self consistent field calculation\n",
    "  calculation = 'scf',\n",
    "\n",
    "! prefix is reference to the output files\n",
    "  prefix = 'silicon',\n",
    "\n",
    "! output directory. Note that it is deprecated.\n",
    "  outdir = './tmp/'\n",
    "\n",
    "! directory for the pseudo potential directory\n",
    "  pseudo_dir = '../pseudos/'\n",
    "\n",
    "! verbosity high will give more details on the output file\n",
    "  verbosity = 'high'\n",
    "/\n",
    "\n",
    "&SYSTEM\n",
    "! Bravais lattice index, which is 2 for FCC structure\n",
    "  ibrav =  2,\n",
    "\n",
    "! Lattice constant in BOHR\n",
    "  celldm(1) = 10.26,\n",
    "\n",
    "! number of atoms in an unit cell\n",
    "  nat =  2,\n",
    "\n",
    "! number of different types of atom in the cell\n",
    "  ntyp = 1,\n",
    "\n",
    "! kinetic energy cutoff for wavefunction in Ry\n",
    "  ecutwfc = 30\n",
    "\n",
    "! number of bands to calculate\n",
    "  nbnd = 8\n",
    "/\n",
    "\n",
    "&ELECTRONS\n",
    "! Mixing factor used in the self-consistent method\n",
    "  mixing_beta = 0.6\n",
    "/\n",
    "\n",
    "ATOMIC_SPECIES\n",
    "  Si 28.086 Si.pz-vbc.UPF\n",
    "\n",
    "ATOMIC_POSITIONS (alat)\n",
    "  Si 0.0 0.0 0.0\n",
    "  Si 0.25 0.25 0.25\n",
    "\n",
    "K_POINTS (automatic)\n",
    "  6 6 6 0 0 0\n",
    "# End of Script\n"
   ]
  },
  {
   "cell_type": "code",
   "execution_count": 3,
   "metadata": {},
   "outputs": [
    {
     "name": "stdout",
     "output_type": "stream",
     "text": [
      " Le volume dans le lecteur C n’a pas de nom.\n",
      " Le numéro de série du volume est DC02-C1A6\n",
      "\n",
      " Répertoire de C:\\Users\\pc\\Desktop\\M2A\n",
      "\n",
      "21/11/2024  10:17             1 774 calc_fcc.in\n",
      "12/11/2024  14:40             1 565 calc_fcc_ver1.in\n",
      "09/11/2024  14:10             1 233 calc_fcc_ver2.in\n",
      "23/12/2024  17:51             3 143 cylindre.in\n",
      "23/12/2024  23:03             2 878 cylindre_LGV.in\n",
      "03/12/2024  12:18             1 141 Diatomic.in\n",
      "03/12/2024  12:22             1 113 Diatomic1.in\n",
      "12/11/2024  16:49             1 177 lj.in\n",
      "12/11/2024  17:08               533 ljbarosta.in\n",
      "12/11/2024  17:19             1 389 ljovito.in\n",
      "12/11/2024  18:10             1 018 ljrdf.in\n",
      "12/11/2024  16:59               522 ljthermo.in\n",
      "25/11/2024  12:17             2 875 minimization.in\n",
      "25/11/2024  12:45             3 080 minimization1.in\n",
      "03/12/2024  11:44             1 141 mixed.in\n",
      "23/12/2024  23:18             1 373 molc.in\n",
      "26/11/2024  15:15             3 352 nve.in\n",
      "26/11/2024  16:50             4 909 nve_npt_nvt.in\n",
      "23/11/2024  15:26             3 010 nvt.in\n",
      "20/01/2025  14:05             1 058 SCF_si.in\n",
      "              20 fichier(s)           38 284 octets\n",
      "               0 Rép(s)  158 869 876 736 octets libres\n"
     ]
    }
   ],
   "source": [
    "!dir *.in"
   ]
  },
  {
   "cell_type": "code",
   "execution_count": 5,
   "metadata": {},
   "outputs": [
    {
     "name": "stderr",
     "output_type": "stream",
     "text": [
      "Le fichier spécifié est introuvable.\n"
     ]
    }
   ],
   "source": [
    "## Run pw.x in self consistent mode for silicon\n",
    "!pw.x < pw.scf.silicon.in > pw.scf.silicon.out"
   ]
  },
  {
   "cell_type": "code",
   "execution_count": null,
   "metadata": {},
   "outputs": [],
   "source": [
    "## Run pw.x in self consistent mode for silicon\n",
    "# For parallel execution\n",
    "!mpirun -np 4 pw.x -inp pw.scf.silicon.in > pw.scf.silicon.out"
   ]
  },
  {
   "cell_type": "code",
   "execution_count": null,
   "metadata": {},
   "outputs": [],
   "source": [
    "## Now let's look at the output file pw.scf.silicon.out and see how the convergence is reached:\n",
    "!grep -e 'total energy' -e estimate pw.scf.silicon.out"
   ]
  },
  {
   "cell_type": "code",
   "execution_count": 7,
   "metadata": {},
   "outputs": [
    {
     "ename": "SyntaxError",
     "evalue": "invalid syntax (269799344.py, line 2)",
     "output_type": "error",
     "traceback": [
      "\u001b[1;36m  Cell \u001b[1;32mIn[7], line 2\u001b[1;36m\u001b[0m\n\u001b[1;33m    Harris-Foulkes estimate   =     -15.86899637 Ry\u001b[0m\n\u001b[1;37m                   ^\u001b[0m\n\u001b[1;31mSyntaxError\u001b[0m\u001b[1;31m:\u001b[0m invalid syntax\n"
     ]
    }
   ],
   "source": [
    "     %total energy              =     -15.85014573 Ry\n",
    "     Harris-Foulkes estimate   =     -15.86899637 Ry\n",
    "     estimated scf accuracy    <       0.06093037 Ry\n",
    "     total energy              =     -15.85194177 Ry\n",
    "     Harris-Foulkes estimate   =     -15.85292281 Ry\n",
    "     estimated scf accuracy    <       0.00462014 Ry\n",
    "     total energy              =     -15.85218359 Ry\n",
    "     Harris-Foulkes estimate   =     -15.85220235 Ry\n",
    "     estimated scf accuracy    <       0.00011293 Ry\n",
    "!    total energy              =     -15.85219789 Ry\n",
    "     Harris-Foulkes estimate   =     -15.85219831 Ry\n",
    "     estimated scf accuracy    <       0.00000099 Ry\n",
    "     The total energy is the sum of the following terms:"
   ]
  },
  {
   "cell_type": "code",
   "execution_count": 14,
   "metadata": {},
   "outputs": [
    {
     "ename": "SyntaxError",
     "evalue": "invalid decimal literal (1312228912.py, line 12)",
     "output_type": "error",
     "traceback": [
      "\u001b[1;36m  Cell \u001b[1;32mIn[14], line 12\u001b[1;36m\u001b[0m\n\u001b[1;33m    5- Suggested values for the conv_thr: for energy and eigenvalues (scf calculation) 1.0d-7, for forces (relax calculation) 1.0d-8,\u001b[0m\n\u001b[1;37m                                                                                         ^\u001b[0m\n\u001b[1;31mSyntaxError\u001b[0m\u001b[1;31m:\u001b[0m invalid decimal literal\n"
     ]
    }
   ],
   "source": [
    "# Tips on convergence\n",
    "1- Reduce mixing_beta value, especially if there is an oscillation around the convergence energy.\n",
    "2- If it is a metallic system, use smearing and degauss. In this case, the SCF accuracy gradually goes down then suddenly \n",
    "increases (due to slight change in Fermi energy highest occupied/lowest unoccupied \n",
    "levels change).\n",
    "3- Increase energy and charge density cutoffs (make sure they are sufficient).\n",
    "4- Certain pseudo potential files have issues, you may try with pseudo potentials from different libraries.\n",
    "5- Suggested values for the conv_thr: for energy and eigenvalues (scf calculation) 1.0d-7, for forces (relax calculation) 1.0d-8, \n",
    "for stress (vc-relax calculation) 1.0d-9 Ry. \n",
    "6- For certain calculation convergence might be very slow for the first iteration, one can start the calculation with a higher threshold,\n",
    "after few iterations reduce it and restart the calculation."
   ]
  },
  {
   "cell_type": "code",
   "execution_count": null,
   "metadata": {},
   "outputs": [],
   "source": [
    "#There are several other important information is printed on the output file. Exchange correlation used in the calculation:\n",
    "\n",
    "Exchange-correlation= SLA  PZ   NOGX NOGC\n",
    "# Where SLA → Slater exchange; PZ → Perdew-Zunger parametrization of the LDA; NOGX and NOGC indicates \n",
    "# that density gradients are not taken into account."
   ]
  },
  {
   "cell_type": "code",
   "execution_count": 16,
   "metadata": {},
   "outputs": [
    {
     "ename": "SyntaxError",
     "evalue": "invalid syntax (2164930034.py, line 2)",
     "output_type": "error",
     "traceback": [
      "\u001b[1;36m  Cell \u001b[1;32mIn[16], line 2\u001b[1;36m\u001b[0m\n\u001b[1;33m    Parallelization info\u001b[0m\n\u001b[1;37m                    ^\u001b[0m\n\u001b[1;31mSyntaxError\u001b[0m\u001b[1;31m:\u001b[0m invalid syntax\n"
     ]
    }
   ],
   "source": [
    "#We can see the total number of plane waves (1067) uses in our calculation:\n",
    "Parallelization info\n",
    "--------------------\n",
    "sticks:   dense  smooth     PW     G-vecs:    dense   smooth      PW\n",
    "Min         108     108     34                 1489     1489     266\n",
    "Max         109     109     35                 1492     1492     267\n",
    "Sum         433     433    139                 5961     5961    1067"
   ]
  },
  {
   "cell_type": "markdown",
   "metadata": {},
   "source": [
    "***\n",
    "<img src=\"https://upload.wikimedia.org/wikipedia/en/c/cd/Anaconda_Logo.png\" width=\"200\" title=\"Anaconda Logo\" />\n",
    "\n",
    "### Step One: Download Anaconda\n",
    "\n",
    "OK, if you are a newby to Python, the easiest way to get everything installed on yoru computer is through a softare package called Anaconda at https://www.anaconda.com.  Go ahead, go there and download the most current version of Python (and Anaconda) for your operating system.\n",
    "\n",
    "Click, download, save as, run, voila!  Congratulations, you now have Anaconda and Python installed on your machine!\n",
    "\n",
    "If you area having problems, there are a whole bunch of links and videos to help, [click here](https://www.google.com/search?sxsrf=ALeKk01t4vqA2pmuRVOUlODH1C9xHn5U0A%3A1586178572086&source=hp&ei=DCqLXruiAq-wytMPgZ-24AY&q=how+to+install+anaconda&oq=how+to+install+anaconda&gs_lcp=CgZwc3ktYWIQAzICCAAyAggAMgIIADICCAAyAggAMgIIADICCAAyAggAMgIIADICCAA6BQgAEIMBOgQIIxAnOggIABAWEAoQHjoGCAAQFhAeOgcIIxCxAhAnOgQIABAKSjEIFxItMi0yNTlnMjMzZzIzMWcyNThnMTQ5ZzE5OGcyMDhnMTcwZzE3M2cyMTNnMjIyShsIGBIXMi0xZzFnMWcxZzFnMWcxZzJnOGc1ZzRQ5gpYxl9ggHFoCHAAeAGAAeYCiAG7IpIBCDAuMjQuMi4xmAEAoAEBqgEHZ3dzLXdpeg&sclient=psy-ab&ved=0ahUKEwi72NjS79PoAhUvmHIEHYGPDWwQ4dUDCAw&uact=5#spf=1586178588337)"
   ]
  },
  {
   "cell_type": "markdown",
   "metadata": {},
   "source": [
    "***\n",
    "<img src=\"https://upload.wikimedia.org/wikipedia/commons/9/91/Octicons-mark-github.svg\" width=\"15%\" title=\"Github Logo\" />\n",
    "\n",
    "\n",
    "### Step Two: Get tutorials (or Git Tutorials?)\n",
    "\n",
    "OK, I made it easy for you.  I uploaded all these onto [Github](https://github.com) under my user account [mrkllntschpp](https://github.com/mrkllntschpp) (my full name without vowels) in the [LAMMPS-tutorials repository](https://github.com/mrkllntschpp/lammps-tutorials).\n",
    "\n",
    "Surely others have pulled files from Github.  Yes!  So, just try this to clone the files on your desktop (or wherever you want to store them).\n",
    "https://help.github.com/en/github/creating-cloning-and-archiving-repositories/cloning-a-repository\n",
    "\n",
    "I actually have to use the command line on my computer, so I navigate to the folder that I want it in.  Then, \n",
    "Type `git clone`, and then paste the `https://github.com/mrkllntschpp/lammps-tutorials` URL.\n",
    "\n",
    "i.e., `git clone https://github.com/mrkllntschpp/lammps-tutorials`\n",
    "\n",
    "It should copy everything in my [LAMMPS-tutorials repository](https://github.com/mrkllntschpp/lammps-tutorials) to your computer.  Awesome-sauce!"
   ]
  },
  {
   "cell_type": "markdown",
   "metadata": {},
   "source": [
    "***\n",
    "<img src=\"https://upload.wikimedia.org/wikipedia/commons/thumb/3/38/Jupyter_logo.svg/1200px-Jupyter_logo.svg.png\" width=\"150\" title=\"Github Logo\" />\n",
    "\n",
    "\n",
    "### Step Three: Run it in Jupyter Notebook\n",
    "\n",
    "OK, now go to the Windows start menu and run Anaconda Navigator.  This will bring up a console with a whole bunch of different programs that can be launched.  Launch the Jupyter Notebook application and it will bring up a directory within your computer in Internet Explorer or your default web browser.  Change directories to whereever the tutorials are and select one.  This should open the `*.ipynb` (Iron Python Notebook) in Jupyter Notebook and open up a Python Kernel to run it on.\n",
    "\n",
    "If you are new to Jupyter Notebook, you can find a number of tutorials online to teach some of the basics, like [this one](https://www.google.com/url?sa=t&rct=j&q=&esrc=s&source=video&cd=1&cad=rja&uact=8&ved=0ahUKEwj3tsuJg9ToAhUHj3IEHYw0A3YQtwIIKDAA&url=https%3A%2F%2Fwww.youtube.com%2Fwatch%3Fv%3DHW29067qVWk&usg=AOvVaw21ZJjIdwH3IMVAp19RGLmx) or [this one](https://www.google.com/url?sa=t&rct=j&q=&esrc=s&source=video&cd=2&cad=rja&uact=8&ved=0ahUKEwj3tsuJg9ToAhUHj3IEHYw0A3YQtwIIMDAB&url=https%3A%2F%2Fwww.youtube.com%2Fwatch%3Fv%3D3C9E2yPBw7s&usg=AOvVaw1P-HedhUVdEgsS3kPk6acr)\n"
   ]
  },
  {
   "cell_type": "markdown",
   "metadata": {},
   "source": [
    "***\n",
    "<div class=\"alert alert-success\">\n",
    "    <center>Congratulations!</center>\n",
    "</div>\n",
    "\n",
    "***"
   ]
  }
 ],
 "metadata": {
  "kernelspec": {
   "display_name": "Python 3 (ipykernel)",
   "language": "python",
   "name": "python3"
  },
  "language_info": {
   "codemirror_mode": {
    "name": "ipython",
    "version": 3
   },
   "file_extension": ".py",
   "mimetype": "text/x-python",
   "name": "python",
   "nbconvert_exporter": "python",
   "pygments_lexer": "ipython3",
   "version": "3.12.7"
  }
 },
 "nbformat": 4,
 "nbformat_minor": 4
}
