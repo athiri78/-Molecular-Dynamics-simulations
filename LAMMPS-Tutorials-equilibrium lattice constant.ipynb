{
 "cells": [
  {
   "cell_type": "markdown",
   "metadata": {},
   "source": [
    "# LAMMPS Tutorials 02. Using variables and iterating in LAMMPS!\n",
    "\n",
    "### Author: Mark Tschopp, mark.a.tschopp.civ at mail.mil\n",
    "\n",
    "Please contact me if you have a problem with this tutorial, so I can modify in Github.  I have added FAQs, and will update my versions of LAMMPS in the future to keep the scripts current.\n",
    "\n",
    "The original tutorials are given here: https://icme.hpc.msstate.edu/mediawiki/index.php/LAMMPS_tutorials.  A number of these tutorials are out of date and have been ported over into the current iPython Jupyter Notebook tutorials on github.\n",
    "\n",
    "***"
   ]
  },
  {
   "cell_type": "markdown",
   "metadata": {},
   "source": [
    "## Description:\n",
    "<a id=\"Sec1\"></a>\n",
    "This is part two of a tutorial for running LAMMPS simulation on a Windows machine. For this example, the molecular dynamics simulation calculates the equilibrium lattice constant and the corresponding cohesive energy for aluminum. This tutorial will introduce the use of variables via command line and using MATLAB/Python for running LAMMPS. \n",
    "\n"
   ]
  },
  {
   "cell_type": "markdown",
   "metadata": {},
   "source": [
    "## Complete Tutorial One \n",
    "\n",
    "If you have not done so already, complete the first tutorial available [here](https://github.com/mrkllntschpp/lammps-tutorials). "
   ]
  },
  {
   "cell_type": "markdown",
   "metadata": {},
   "source": [
    "***\n",
    "## Step 1: Modify the input file \n",
    "\n",
    "This input script was run using the 24Jan2020 version of LAMMPS. Changes in some commands may require revision of the input script. In the below input script, the initial lattice constant (4) was replaced with the variable **latconst** (\\${latconst}). Either modify the initial script `calc_fcc.in` or copy the text below and paste it into a new text file. Name the modified file: `calc_fcc_ver1.in`. If pasting, use the `Paste Special` command with `Unformatted Text`. Note, this requires the variable **latconst** to be manually passed in from the command line when executing lammps, e.g. `lmp_win_no-mpi -in calc_fcc_ver1.in -var latconst 4`. "
   ]
  },
  {
   "cell_type": "code",
   "execution_count": 1,
   "metadata": {
    "scrolled": true
   },
   "outputs": [
    {
     "name": "stdout",
     "output_type": "stream",
     "text": [
      "Overwriting calc_fcc_ver1.in\n"
     ]
    }
   ],
   "source": [
    "%%writefile calc_fcc_ver1.in\n",
    "######################################\n",
    "# LAMMPS INPUT SCRIPT\n",
    "# Find minimum energy fcc configuration\n",
    "# Mark Tschopp\n",
    "# This requires the variable latconst to be input via the command line\n",
    "# e.g., lmp_win_no-mpi -var latconst 4 < calc_fcc_ver1.in\n",
    "\n",
    "######################################\n",
    "# INITIALIZATION\n",
    "clear \n",
    "units metal \n",
    "dimension 3 \n",
    "boundary p p p \n",
    "atom_style atomic \n",
    "atom_modify map array\n",
    "\n",
    "######################################\n",
    "# ATOM DEFINITION\n",
    "lattice fcc ${latconst}\n",
    "region box block 0 1 0 1 0 1 units lattice\n",
    "create_box 1 box\n",
    "\n",
    "lattice fcc ${latconst} orient x 1 0 0 orient y 0 1 0 orient z 0 0 1  \n",
    "create_atoms 1 box\n",
    "replicate 1 1 1\n",
    "\n",
    "######################################\n",
    "# DEFINE INTERATOMIC POTENTIAL\n",
    "pair_style eam/alloy \n",
    "pair_coeff * * Al99.eam.alloy Al\n",
    "neighbor 2.0 bin \n",
    "neigh_modify delay 10 check yes \n",
    " \n",
    "######################################\n",
    "# DEFINE COMPUTES \n",
    "compute eng all pe/atom \n",
    "compute eatoms all reduce sum c_eng \n",
    "\n",
    "#####################################################\n",
    "# MINIMIZATION\n",
    "reset_timestep 0 \n",
    "fix 1 all box/relax iso 0.0 vmax 0.001\n",
    "thermo 100 \n",
    "thermo_style custom step pe lx ly lz press pxx pyy pzz c_eatoms \n",
    "min_style cg \n",
    "minimize 1e-25 1e-25 5000 10000 \n",
    "\n",
    "variable natoms equal \"count(all)\" \n",
    "variable teng equal \"c_eatoms\"\n",
    "variable length equal \"lx\"\n",
    "variable ecoh equal \"v_teng/v_natoms\"\n",
    "\n",
    "print \"Total energy (eV) = ${teng};\"\n",
    "print \"Number of atoms = ${natoms};\"\n",
    "print \"Lattice constant (Angstoms) = ${length};\"\n",
    "print \"Cohesive energy (eV) = ${ecoh};\"\n",
    "\n",
    "print \"All done!\""
   ]
  },
  {
   "cell_type": "markdown",
   "metadata": {},
   "source": [
    "***\n",
    "## Step 2: Run in LAMMPS \n",
    "OK. Get to the command prompt and run the script that we just wrote.  It should look like this."
   ]
  },
  {
   "cell_type": "code",
   "execution_count": 3,
   "metadata": {},
   "outputs": [
    {
     "name": "stdout",
     "output_type": "stream",
     "text": [
      "LAMMPS (29 Aug 2024 - Update 1)\n",
      "OMP_NUM_THREADS environment is not set. Defaulting to 1 thread. (src/comm.cpp:98)\n",
      "  using 1 OpenMP thread(s) per MPI task\n",
      "Loaded 1 plugins from C:\\LAMMPS 64-bit 29Aug2024\\plugins\n",
      "set 8 OpenMP thread(s) per MPI task\n",
      "using multi-threaded neighbor list subroutines\n",
      "OMP_NUM_THREADS environment is not set. Defaulting to 1 thread. (src/comm.cpp:98)\n",
      "  using 1 OpenMP thread(s) per MPI task\n",
      "Loaded 1 plugins from C:\\LAMMPS 64-bit 29Aug2024\\plugins\n",
      "set 8 OpenMP thread(s) per MPI task\n",
      "using multi-threaded neighbor list subroutines\n",
      "Lattice spacing in x,y,z = 3 3 3\n",
      "Created orthogonal box = (0 0 0) to (3 3 3)\n",
      "  1 by 1 by 1 MPI processor grid\n",
      "Lattice spacing in x,y,z = 3 3 3\n",
      "Created 4 atoms\n",
      "  using lattice units in orthogonal box = (0 0 0) to (3 3 3)\n",
      "  create_atoms CPU = 0.002 seconds\n",
      "Replication is creating a 2x1x1 = 2 times larger system...\n",
      "  orthogonal box = (0 0 0) to (6 3 3)\n",
      "  1 by 1 by 1 MPI processor grid\n",
      "  8 atoms\n",
      "  replicate CPU = 0.002 seconds\n",
      "Switching to 'neigh_modify every 1 delay 0 check yes' setting during minimization\n",
      "Last active /omp style is pair_style eam/alloy/omp\n",
      "Neighbor list info ...\n",
      "  update: every = 1 steps, delay = 0 steps, check = yes\n",
      "  max neighbors/atom: 2000, page size: 100000\n",
      "  master list distance cutoff = 8.28721\n",
      "  ghost atom cutoff = 8.28721\n",
      "  binsize = 4.143605, bins = 2 1 1\n",
      "  1 neighbor lists, perpetual/occasional/extra = 1 0 0\n",
      "  (1) pair eam/alloy/omp, perpetual\n",
      "      attributes: half, newton on, omp\n",
      "      pair build: half/bin/newton/atomonly/omp\n",
      "      stencil: half/bin/3d\n",
      "      bin: standard\n",
      "Setting up cg style minimization ...\n",
      "  Unit style    : metal\n",
      "  Current step  : 0\n",
      "WARNING: Energy due to 1 extra global DOFs will be included in minimizer energies\n",
      " (src/min.cpp:219)\n",
      "WARNING: A per-atom density exceeded rhomax of EAM potential table - a linear extrapolation to the energy was made (src/OPENMP/pair_eam_omp.cpp:101)\n",
      "Per MPI rank memory allocation (min/avg/max) = 10.68 | 10.68 | 10.68 Mbytes\n",
      "   Step         PotEng           Lx             Ly             Lz           Press           Pxx            Pyy            Pzz          c_eatoms   \n",
      "         0   19.93135       6              3              3              3458818.8      3458818.8      3458818.8      3458818.8      19.93135     \n",
      "       100  -8.1754442      6.6            3.3            3.3            1637176.2      1637176.2      1637176.2      1637176.2     -8.1754442    \n",
      "       200  -21.70534       7.2            3.6            3.6            567324.29      567324.29      567324.29      567324.29     -21.70534     \n",
      "       300  -26.478862      7.8            3.9            3.9            96679.419      96679.419      96679.419      96679.419     -26.478862    \n",
      "       357  -26.88          8.1000093      4.0500047      4.0500047     -2.2849291e-10 -1.9680737e-10 -2.4634392e-10 -2.4232744e-10 -26.88        \n",
      "Loop time of 0.537284 on 8 procs for 357 steps with 8 atoms\n",
      "\n",
      "84.3% CPU use with 1 MPI tasks x 8 OpenMP threads\n",
      "\n",
      "Minimization stats:\n",
      "  Stopping criterion = energy tolerance\n",
      "  Energy initial, next-to-last, final = \n",
      "      19.9313499298179  -26.8799999054703  -26.8799999054703\n",
      "  Force two-norm initial, final = 349.72966 4.224945e-14\n",
      "  Force max component initial, final = 349.72966 4.2106188e-14\n",
      "  Final line search alpha, max atom move = 1 4.2106188e-14\n",
      "  Iterations, force evaluations = 357 364\n",
      "\n",
      "MPI task timing breakdown:\n",
      "Section |  min time  |  avg time  |  max time  |%varavg| %total\n",
      "---------------------------------------------------------------\n",
      "Pair    | 0.35742    | 0.35742    | 0.35742    |   0.0 | 66.52\n",
      "Neigh   | 0.00024    | 0.00024    | 0.00024    |   0.0 |  0.04\n",
      "Comm    | 0.004275   | 0.004275   | 0.004275   |   0.0 |  0.80\n",
      "Output  | 0.000119   | 0.000119   | 0.000119   |   0.0 |  0.02\n",
      "Modify  | 0.035458   | 0.035458   | 0.035458   |   0.0 |  6.60\n",
      "Other   |            | 0.1398     |            |       | 26.01\n",
      "\n",
      "Nlocal:              8 ave           8 max           8 min\n",
      "Histogram: 1 0 0 0 0 0 0 0 0 0\n",
      "Nghost:            779 ave         779 max         779 min\n",
      "Histogram: 1 0 0 0 0 0 0 0 0 0\n",
      "Neighs:            704 ave         704 max         704 min\n",
      "Histogram: 1 0 0 0 0 0 0 0 0 0\n",
      "\n",
      "Total # of neighbors = 704\n",
      "Ave neighs/atom = 88\n",
      "Neighbor list builds = 2\n",
      "Dangerous builds = 0\n",
      "Total energy (eV) = -26.8799999054703;\n",
      "Number of atoms = 8;\n",
      "Lattice constant (Angstoms) = 8.10000932357085;\n",
      "Cohesive energy (eV) = -3.35999998818379;\n",
      "All done!\n",
      "Total wall time: 0:00:00\n"
     ]
    }
   ],
   "source": [
    "!lmp -in calc_fcc_ver1.in -var latconst 3.0   -pk omp 8 -sf omp "
   ]
  },
  {
   "cell_type": "markdown",
   "metadata": {},
   "source": [
    "Try modifying the starting lattice constant from the command line, *e.g.*, to start with a lattice constant of 3.0 Angstroms, type 'lmp_serial -var latconst 3.0 < calc_fcc_ver1.in'. This will not affect the final values (above), but it will start the simulation with a lower lattice constant for the FCC structure."
   ]
  },
  {
   "cell_type": "code",
   "execution_count": 7,
   "metadata": {},
   "outputs": [
    {
     "name": "stdout",
     "output_type": "stream",
     "text": [
      "LAMMPS (29 Aug 2024 - Update 1)\n",
      "OMP_NUM_THREADS environment is not set. Defaulting to 1 thread. (src/comm.cpp:98)\n",
      "  using 1 OpenMP thread(s) per MPI task\n",
      "Loaded 1 plugins from C:\\LAMMPS 64-bit 29Aug2024\\plugins\n",
      "OMP_NUM_THREADS environment is not set. Defaulting to 1 thread. (src/comm.cpp:98)\n",
      "  using 1 OpenMP thread(s) per MPI task\n",
      "Loaded 1 plugins from C:\\LAMMPS 64-bit 29Aug2024\\plugins\n",
      "Lattice spacing in x,y,z = 3 3 3\n",
      "Created orthogonal box = (0 0 0) to (3 3 3)\n",
      "  1 by 1 by 1 MPI processor grid\n",
      "Lattice spacing in x,y,z = 3 3 3\n",
      "Created 4 atoms\n",
      "  using lattice units in orthogonal box = (0 0 0) to (3 3 3)\n",
      "  create_atoms CPU = 0.000 seconds\n",
      "Replication is creating a 2x1x1 = 2 times larger system...\n",
      "  orthogonal box = (0 0 0) to (6 3 3)\n",
      "  1 by 1 by 1 MPI processor grid\n",
      "  8 atoms\n",
      "  replicate CPU = 0.000 seconds\n",
      "Switching to 'neigh_modify every 1 delay 0 check yes' setting during minimization\n",
      "Neighbor list info ...\n",
      "  update: every = 1 steps, delay = 0 steps, check = yes\n",
      "  max neighbors/atom: 2000, page size: 100000\n",
      "  master list distance cutoff = 8.28721\n",
      "  ghost atom cutoff = 8.28721\n",
      "  binsize = 4.143605, bins = 2 1 1\n",
      "  1 neighbor lists, perpetual/occasional/extra = 1 0 0\n",
      "  (1) pair eam/alloy, perpetual\n",
      "      attributes: half, newton on\n",
      "      pair build: half/bin/atomonly/newton\n",
      "      stencil: half/bin/3d\n",
      "      bin: standard\n",
      "Setting up cg style minimization ...\n",
      "  Unit style    : metal\n",
      "  Current step  : 0\n",
      "WARNING: Energy due to 1 extra global DOFs will be included in minimizer energies\n",
      " (src/min.cpp:219)\n",
      "WARNING: A per-atom density exceeded rhomax of EAM potential table - a linear extrapolation to the energy was made (src/MANYBODY/pair_eam.cpp:334)\n",
      "Per MPI rank memory allocation (min/avg/max) = 4.505 | 4.505 | 4.505 Mbytes\n",
      "   Step         PotEng           Lx             Ly             Lz           Press           Pxx            Pyy            Pzz          c_eatoms   \n",
      "         0   19.93135       6              3              3              3458818.8      3458818.8      3458818.8      3458818.8      19.93135     \n",
      "       100  -8.1754442      6.6            3.3            3.3            1637176.2      1637176.2      1637176.2      1637176.2     -8.1754442    \n",
      "       200  -21.70534       7.2            3.6            3.6            567324.29      567324.29      567324.29      567324.29     -21.70534     \n",
      "       300  -26.478862      7.8            3.9            3.9            96679.419      96679.419      96679.419      96679.419     -26.478862    \n",
      "       354  -26.88          8.1000093      4.0500047      4.0500047     -6.7409871e-10 -7.0288346e-10 -6.6405752e-10 -6.5535515e-10 -26.88        \n",
      "Loop time of 0.048022 on 1 procs for 354 steps with 8 atoms\n",
      "\n",
      "32.5% CPU use with 1 MPI tasks x 1 OpenMP threads\n",
      "\n",
      "Minimization stats:\n",
      "  Stopping criterion = energy tolerance\n",
      "  Energy initial, next-to-last, final = \n",
      "      19.9313499298179  -26.8799999054704  -26.8799999054704\n",
      "  Force two-norm initial, final = 349.72966 1.3697299e-13\n",
      "  Force max component initial, final = 349.72966 1.2422148e-13\n",
      "  Final line search alpha, max atom move = 1 1.2422148e-13\n",
      "  Iterations, force evaluations = 354 358\n",
      "\n",
      "MPI task timing breakdown:\n",
      "Section |  min time  |  avg time  |  max time  |%varavg| %total\n",
      "---------------------------------------------------------------\n",
      "Pair    | 0.024723   | 0.024723   | 0.024723   |   0.0 | 51.48\n",
      "Neigh   | 0.000149   | 0.000149   | 0.000149   |   0.0 |  0.31\n",
      "Comm    | 0.003087   | 0.003087   | 0.003087   |   0.0 |  6.43\n",
      "Output  | 0.000119   | 0.000119   | 0.000119   |   0.0 |  0.25\n",
      "Modify  | 0          | 0          | 0          |   0.0 |  0.00\n",
      "Other   |            | 0.01994    |            |       | 41.53\n",
      "\n",
      "Nlocal:              8 ave           8 max           8 min\n",
      "Histogram: 1 0 0 0 0 0 0 0 0 0\n",
      "Nghost:            779 ave         779 max         779 min\n",
      "Histogram: 1 0 0 0 0 0 0 0 0 0\n",
      "Neighs:            704 ave         704 max         704 min\n",
      "Histogram: 1 0 0 0 0 0 0 0 0 0\n",
      "\n",
      "Total # of neighbors = 704\n",
      "Ave neighs/atom = 88\n",
      "Neighbor list builds = 2\n",
      "Dangerous builds = 0\n",
      "Total energy (eV) = -26.8799999054703;\n",
      "Number of atoms = 8;\n",
      "Lattice constant (Angstoms) = 8.10000932357085;\n",
      "Cohesive energy (eV) = -3.35999998818379;\n",
      "All done!\n",
      "Total wall time: 0:00:00\n"
     ]
    }
   ],
   "source": [
    "!\"C:\\LAMMPS 64-bit 29Aug2024\\bin\\lmp\" -var latconst 3.0 < calc_fcc_ver1.in"
   ]
  },
  {
   "cell_type": "markdown",
   "metadata": {},
   "source": [
    "***\n",
    "## Step 3: Iterate and Run in MATLAB \n",
    "\n",
    "Now, the exciting part! In this section, MATLAB will be used to run a LAMMPS simulation in Windows. Follow these steps: \n",
    "1. Open MATLAB \n",
    "1. Change to the directory that contains the LAMMPS executable (`lmp_serial.exe`), the input script (`calc_fcc_ver1.in`), and the potential file (`Al99.eam.alloy`). \n",
    "1. Type `system('lmp_serial -var latconst 4 < calc_fcc_ver1.in');` \n",
    "1. The simulation should show up on the MATLAB screen. When it completes, it will display \"All done\"! \n",
    "\n",
    "Now that you can run a simulation from MATLAB, it is easy to loop over a number of different lattice constants to calculate the energy. For instance, modify the input script again to only display the energy for the lattice constant input through the command line. The script should look like this: "
   ]
  },
  {
   "cell_type": "code",
   "execution_count": 39,
   "metadata": {},
   "outputs": [
    {
     "name": "stdout",
     "output_type": "stream",
     "text": [
      "Overwriting calc_fcc_ver2.in\n"
     ]
    }
   ],
   "source": [
    "%%writefile calc_fcc_ver2.in\n",
    "######################################\n",
    "# LAMMPS INPUT SCRIPT\n",
    "# Find minimum energy fcc configuration\n",
    "# Mark Tschopp\n",
    "# This requires the variable latconst to be input via the command line\n",
    "# e.g., lmp_win_no-mpi -var latconst 4 < calc_fcc_ver1.in\n",
    "\n",
    "######################################\n",
    "# INITIALIZATION\n",
    "clear \n",
    "units metal \n",
    "dimension 3 \n",
    "boundary p p p \n",
    "atom_style atomic \n",
    "atom_modify map array\n",
    "\n",
    "######################################\n",
    "# ATOM DEFINITION\n",
    "lattice fcc ${latconst} orient x 1 0 0 orient y 0 1 0 orient z 0 0 1  \n",
    "region box block 0 1 0 1 0 1 units lattice\n",
    "create_box 1 box\n",
    "create_atoms 1 box\n",
    "replicate 1 1 1\n",
    "\n",
    "######################################\n",
    "# DEFINE INTERATOMIC POTENTIAL\n",
    "pair_style eam/alloy \n",
    "pair_coeff * * Al99.eam.alloy Al\n",
    "neighbor 2.0 bin \n",
    "neigh_modify delay 10 check yes \n",
    " \n",
    "######################################\n",
    "# RUN 0\n",
    "run 0\n",
    "\n",
    "variable natoms equal \"count(all)\" \n",
    "variable teng equal \"pe\"\n",
    "variable length equal \"lx\"\n",
    "variable ecoh equal \"v_teng/v_natoms\"\n",
    "\n",
    "print \"Total energy (eV) = ${teng};\"\n",
    "print \"Number of atoms = ${natoms};\"\n",
    "print \"Lattice constant (Angstoms) = ${length};\"\n",
    "print \"Cohesive energy (eV) = ${ecoh};\"\n",
    "print \"%% ecoh = ${ecoh};\"\n",
    "\n",
    "print \"All done!\" "
   ]
  },
  {
   "cell_type": "markdown",
   "metadata": {},
   "source": [
    "The `run 0` command can be used to calculate the energy of the system without actually running an iteration. Name this `calc_fcc_ver2.in` and combine this with a simple MATLAB script like this: "
   ]
  },
  {
   "cell_type": "markdown",
   "metadata": {},
   "source": [
    "```OCTAVE\n",
    "% MATLAB Script for running LAMMPS multiple times\n",
    "\n",
    "count = 0;\n",
    "for i = 3.0:0.10:5.0\n",
    "    command_line = ['lmp_win_no-mpi -var latconst ' num2str(i) ' < calc_fcc_ver2.in'];\n",
    "\n",
    "    % this next line executes the command line\n",
    "    system(command_line)\n",
    "\n",
    "    % all that is left is to mine the 'log.lammps' file for the energy\n",
    "    fid = fopen('log.lammps');\n",
    "        tline = fgetl(fid);\n",
    "        while ~feof(fid)\n",
    "           matches = strfind(tline, '%%');\n",
    "           num = length(matches);\n",
    "           if num > 0 && matches == 1\n",
    "                teval = strrep(tline,'%%','');\n",
    "                eval(teval)\n",
    "           end\n",
    "           tline = fgetl(fid);\n",
    "        end\n",
    "    fclose(fid);\n",
    "\n",
    "   % store the values in a matrix\n",
    "   count = count + 1;\n",
    "   X(count) = i; Y(count) = ecoh;\n",
    "end\n",
    "\n",
    "plot(X,Y,'-*r'), axis square\n",
    "```"
   ]
  },
  {
   "cell_type": "markdown",
   "metadata": {},
   "source": [
    "This script increases the lattice constant (variable `i`) from 3.0 to 5.0 Angstroms in increments of 0.10 Angstroms (`3.0:0.10:0.50`) AND calculates the energy for each lattice constant. As an easy extension, MATLAB can now be used to run hundreds of simulations, extract energies, and plot the lattice constant-energy curve in a matter of a minute or so. Notice the line `print \"%% ecoh = ${ecoh};\"` in the `calc_fcc_ver2.in` script.  The '\\%\\%' is used as a flag for when MATLAB mines the `log.lammps` file. This MATLAB script iteratively reads every line in the `log.lammps` file and checks to see if the flag \\%\\% is contained within each line. When MATLAB finds a line with the flag, it removes the flag, and evaluates (`eval`) the rest of the line in MATLAB (which converts the string to a variable in the MATLAB stack). Notice that vector `X` in MATLAB contains the lattice constant that is passed to LAMMPS and vector `Y` in MATLAB now contains the potential energy `ecoh` that was computed in LAMMPS."
   ]
  },
  {
   "cell_type": "markdown",
   "metadata": {},
   "source": [
    "***\n",
    "## Run Iteratively in Python\n",
    "\n",
    "Now let's try it in Python."
   ]
  },
  {
   "cell_type": "code",
   "execution_count": 9,
   "metadata": {},
   "outputs": [
    {
     "name": "stdout",
     "output_type": "stream",
     "text": [
      "lmp -in calc_fcc_ver2.in -var latconst 3.00 -log log_000.lammps\n",
      "lmp -in calc_fcc_ver2.in -var latconst 3.10 -log log_001.lammps\n",
      "lmp -in calc_fcc_ver2.in -var latconst 3.20 -log log_002.lammps\n",
      "lmp -in calc_fcc_ver2.in -var latconst 3.30 -log log_003.lammps\n",
      "lmp -in calc_fcc_ver2.in -var latconst 3.40 -log log_004.lammps\n",
      "lmp -in calc_fcc_ver2.in -var latconst 3.50 -log log_005.lammps\n",
      "lmp -in calc_fcc_ver2.in -var latconst 3.60 -log log_006.lammps\n",
      "lmp -in calc_fcc_ver2.in -var latconst 3.70 -log log_007.lammps\n",
      "lmp -in calc_fcc_ver2.in -var latconst 3.80 -log log_008.lammps\n",
      "lmp -in calc_fcc_ver2.in -var latconst 3.90 -log log_009.lammps\n",
      "lmp -in calc_fcc_ver2.in -var latconst 4.00 -log log_010.lammps\n",
      "lmp -in calc_fcc_ver2.in -var latconst 4.10 -log log_011.lammps\n",
      "lmp -in calc_fcc_ver2.in -var latconst 4.20 -log log_012.lammps\n",
      "lmp -in calc_fcc_ver2.in -var latconst 4.30 -log log_013.lammps\n",
      "lmp -in calc_fcc_ver2.in -var latconst 4.40 -log log_014.lammps\n",
      "lmp -in calc_fcc_ver2.in -var latconst 4.50 -log log_015.lammps\n",
      "lmp -in calc_fcc_ver2.in -var latconst 4.60 -log log_016.lammps\n",
      "lmp -in calc_fcc_ver2.in -var latconst 4.70 -log log_017.lammps\n",
      "lmp -in calc_fcc_ver2.in -var latconst 4.80 -log log_018.lammps\n",
      "lmp -in calc_fcc_ver2.in -var latconst 4.90 -log log_019.lammps\n",
      "lmp -in calc_fcc_ver2.in -var latconst 5.00 -log log_020.lammps\n",
      "[3.0, 3.1, 3.2, 3.3, 3.4, 3.5, 3.6, 3.7, 3.8, 3.9, 4.0, 4.1, 4.2, 4.3, 4.4, 4.5, 4.6, 4.7, 4.8, 4.9, 5.0]\n",
      "--- 0.3601806163787842 seconds ---\n"
     ]
    }
   ],
   "source": [
    "import numpy as np\n",
    "import subprocess \n",
    "import shlex\n",
    "import time\n",
    "\n",
    "start_time = time.time()\n",
    "j = 0\n",
    "x = []\n",
    "for i in list(np.arange(3.00, 5.05, 0.10)):\n",
    "    command_line = f'lmp -in calc_fcc_ver2.in -var latconst {i:0.02f} -log log_{j:03d}.lammps'\n",
    "    x.append(round(i,3))\n",
    "    j += 1\n",
    "    print(command_line)\n",
    "    args = shlex.split(command_line)\n",
    "#    p = subprocess.call(args) # Success! but much slower...\n",
    "    p = subprocess.Popen(args) # Success!\n",
    "    \n",
    "print(x)\n",
    "print(\"--- %s seconds ---\" % (time.time() - start_time))\n"
   ]
  },
  {
   "cell_type": "markdown",
   "metadata": {},
   "source": [
    "Wow!  That ran quickly.  And, it created a bunch of log files.  I purposedly separated the different parts of this process in Python.  Now, we are going to read the cohesive energy for each lattice constant into a variable and store it in a vector.  While I removed the `;` in the flagged line for execution in Python, I could have just modified the script so that it was Python executable, as opposed to MATLAB executable. "
   ]
  },
  {
   "cell_type": "code",
   "execution_count": 11,
   "metadata": {},
   "outputs": [
    {
     "name": "stdout",
     "output_type": "stream",
     "text": [
      "--- 0.0354609489440918 seconds ---\n"
     ]
    }
   ],
   "source": [
    "# how do I read each line in script, find the flag, and assign ecoh to a vector Y for plotting\n",
    "\n",
    "import glob, os\n",
    "import time\n",
    "\n",
    "start_time = time.time()\n",
    "target = \"%%\"\n",
    "y = []\n",
    "for file in glob.glob(\"log_*.lammps\"):\n",
    "    with open(file) as f:\n",
    "        for line in f:\n",
    "            if target in line and \"print\" not in line:\n",
    "                exec(line.replace(\"%% \",\"\").replace(\";\",\"\"))\n",
    "                y.append(ecoh)\n",
    "\n",
    "print(\"--- %s seconds ---\" % (time.time() - start_time))\n"
   ]
  },
  {
   "cell_type": "markdown",
   "metadata": {},
   "source": [
    "OK.  Now that I have both of those, let's put everything together and plot it."
   ]
  },
  {
   "cell_type": "code",
   "execution_count": 13,
   "metadata": {},
   "outputs": [
    {
     "name": "stdout",
     "output_type": "stream",
     "text": [
      "lmp -in calc_fcc_ver2.in -var latconst 3.00 -log log_000.lammps\n",
      "lmp -in calc_fcc_ver2.in -var latconst 3.10 -log log_001.lammps\n",
      "lmp -in calc_fcc_ver2.in -var latconst 3.20 -log log_002.lammps\n",
      "lmp -in calc_fcc_ver2.in -var latconst 3.30 -log log_003.lammps\n",
      "lmp -in calc_fcc_ver2.in -var latconst 3.40 -log log_004.lammps\n",
      "lmp -in calc_fcc_ver2.in -var latconst 3.50 -log log_005.lammps\n",
      "lmp -in calc_fcc_ver2.in -var latconst 3.60 -log log_006.lammps\n",
      "lmp -in calc_fcc_ver2.in -var latconst 3.70 -log log_007.lammps\n",
      "lmp -in calc_fcc_ver2.in -var latconst 3.80 -log log_008.lammps\n",
      "lmp -in calc_fcc_ver2.in -var latconst 3.90 -log log_009.lammps\n",
      "lmp -in calc_fcc_ver2.in -var latconst 4.00 -log log_010.lammps\n",
      "lmp -in calc_fcc_ver2.in -var latconst 4.10 -log log_011.lammps\n",
      "lmp -in calc_fcc_ver2.in -var latconst 4.20 -log log_012.lammps\n",
      "lmp -in calc_fcc_ver2.in -var latconst 4.30 -log log_013.lammps\n",
      "lmp -in calc_fcc_ver2.in -var latconst 4.40 -log log_014.lammps\n",
      "lmp -in calc_fcc_ver2.in -var latconst 4.50 -log log_015.lammps\n",
      "lmp -in calc_fcc_ver2.in -var latconst 4.60 -log log_016.lammps\n",
      "lmp -in calc_fcc_ver2.in -var latconst 4.70 -log log_017.lammps\n",
      "lmp -in calc_fcc_ver2.in -var latconst 4.80 -log log_018.lammps\n",
      "lmp -in calc_fcc_ver2.in -var latconst 4.90 -log log_019.lammps\n",
      "lmp -in calc_fcc_ver2.in -var latconst 5.00 -log log_020.lammps\n",
      "--- 3.6063942909240723 seconds ---\n"
     ]
    },
    {
     "data": {
      "image/png": "[encoded data removed]",
      "text/plain": [
       "<Figure size 640x480 with 1 Axes>"
      ]
     },
     "metadata": {},
     "output_type": "display_data"
    }
   ],
   "source": [
    "import numpy as np\n",
    "import subprocess \n",
    "import shlex\n",
    "import glob, os\n",
    "import time\n",
    "\n",
    "start_time = time.time()\n",
    "\n",
    "j = 0\n",
    "x = []\n",
    "y = []\n",
    "target = \"%%\"\n",
    "for i in list(np.arange(3.00, 5.05, 0.10)):\n",
    "    command_line = f'lmp -in calc_fcc_ver2.in -var latconst {i:0.02f} -log log_{j:03d}.lammps'\n",
    "    x.append(round(i,3))\n",
    "    file = f\"log_{j:03d}.lammps\"\n",
    "    j += 1\n",
    "    print(command_line)\n",
    "    args = shlex.split(command_line)\n",
    "    p = subprocess.Popen(args) # Success!\n",
    "    p.wait()\n",
    "    with open(file) as f:\n",
    "        for line in f:\n",
    "            if target in line and \"print\" not in line:\n",
    "                exec(line.replace(\"%% \",\"\").replace(\";\",\"\"))\n",
    "                y.append(ecoh)\n",
    "\n",
    "print(\"--- %s seconds ---\" % (time.time() - start_time))\n",
    "                \n",
    "%matplotlib inline\n",
    "import matplotlib.pyplot as plt\n",
    "from pylab import *\n",
    "figure()\n",
    "plot(x, y, 'r*-')\n",
    "xlabel('Lattice constant (Angstrom)')\n",
    "ylabel('Cohesive Energy (eV)')\n",
    "title('aluminum cohesive energy evolution')\n",
    "show()"
   ]
  },
  {
   "cell_type": "markdown",
   "metadata": {},
   "source": [
    "Hmm.  It's quite a bit slower when you have to wait within a loop for each subprocess to finish with the `.wait()` command.  I had to put that in the script so it didn't start a subprocess and while it is still running, the Python script would try to open up the log file.   "
   ]
  },
  {
   "cell_type": "markdown",
   "metadata": {},
   "source": [
    "***\n",
    "## LAMMPS Input Script Explained\n",
    "\n",
    "In this section, we will break down what LAMMPS is doing. The easy way to do this on your own is to consult the LAMMPS manual for each command or go to the Internet LAMMPS manual, *i.e.*, at https://lammps.sandia.gov\n",
    "\n",
    "So, first, what is different in this example?  Many of the LAMMPS commands have been explained in Tutorial 1.  Here is what I think is important in this tutorial.\n",
    "\n",
    "### `Variable` command\n",
    "\n",
    "<br>\n",
    "<div class=\"alert alert-block alert-info\">\n",
    "lattice fcc \\${latconst} <br>\n",
    "region box block 0 1 0 1 0 1 units lattice <br>\n",
    "create_box 1 box <br><br>\n",
    "lattice fcc \\${latconst} orient x 1 0 0 orient y 0 1 0 orient z 0 0 1 <br>\n",
    "create_atoms 1 box <br>\n",
    "replicate 1 1 1\n",
    "</div>\n",
    "\n",
    "OK. Do you remember those variables from the first LAMMPS input script? They can be fed in from the command line as well.  This is a great example of passing in the constant `latconst` from the command line and then using it within other LAMMPS commands.  If you combed through the script, you won't find any `variable` command that sets `latconst` to anything, i.e., because it is meant to be set from the command line.  It's usually a good idea to add a comment about the command line syntax or what variables need to be set outside of the script.\n",
    "\n",
    "### Print `%%` in log file.  Print and retrieve!\n",
    "\n",
    "<br>\n",
    "<div class=\"alert alert-block alert-info\">\n",
    "print \"%% ecoh = ${ecoh};\"\n",
    "</div>\n",
    "\n",
    "You are likely to miss this line if I didn't specifically call it out in the tutorial. This was just an easy way to flag certain lines within the log file, which is filled with all sorts of stuff.  There are a number of different iterations of this and you'll see in the tutorials how this is used in different ways to extract data from the LAMMPS simulations.  I like having all the information in a file, and then being able to extract it when I need to.\n",
    "\n",
    "But Mark, why didn't you just compile LAMMPS with Python and seemlessly pass information back-and-forth?  Well, because this is really easy to set up. Plus, my days of compiling Fortran versions of codes like LAMMPS on various supercomputers has left me permanently scarred.  It's gotten better, I know, but if I can not compile LAMMPS on a **WINDOWS** machine to people how to do a few things... I'll take it! "
   ]
  },
  {
   "cell_type": "markdown",
   "metadata": {},
   "source": [
    "***\n",
    "## FAQs \n",
    "\n",
    "<br>\n",
    "<div class=\"alert alert-danger\">\n",
    "Q1: So, what does the `run 0` command actually do? Is it minimization? Is it molecular dynamics?\n",
    "</div>\n",
    "\n",
    "A: The `run 0` command is not minimization or molecular dynamics. The atoms are not displaced at all by this command. This is merely a way for LAMMPS to know that it needs to calculate additionally information for each atom or for the entire system. For instance, before the `run 0` command, LAMMPS may not know the forces on each atom or the energy for the entire system. By executing the `run 0` command, LAMMPS will calculate all the forces and attributes necessary to run molecular dynamics, but will not actually perform the timestep at the end, moving the atoms. Now, the user can print these attributes to screen or to a dumpfile, etc. \n",
    "\n",
    "In some cases, the user will need to tell LAMMPS what values they want LAMMPS to calculate prior to a `run 0` command. For example, if you want the stresses on every atom, you will need to define a compute or a variable command prior to `run 0` and then let LAMMPS know that you need this value by inserting it in to the `thermo_style` command (like in Tutorial 3!). For more information, see the LAMMPS documentation on the run command. "
   ]
  },
  {
   "cell_type": "markdown",
   "metadata": {},
   "source": [
    "***\n",
    "## Tutorial Links\n",
    "\n",
    "* [Click here to open Tutorial 1](LAMMPS-Tutorials-01.ipynb)\n",
    "* [Click here to open the next tutorial](LAMMPS-Tutorials-03.ipynb)"
   ]
  },
  {
   "cell_type": "markdown",
   "metadata": {},
   "source": [
    "***\n",
    "## References \n",
    "\n",
    "1. S. Plimpton, \"Fast Parallel Algorithms for Short-Range Molecular Dynamics,\" J. Comp. Phys., 117, 1-19 (1995)."
   ]
  }
 ],
 "metadata": {
  "kernelspec": {
   "display_name": "Python 3 (ipykernel)",
   "language": "python",
   "name": "python3"
  },
  "language_info": {
   "codemirror_mode": {
    "name": "ipython",
    "version": 3
   },
   "file_extension": ".py",
   "mimetype": "text/x-python",
   "name": "python",
   "nbconvert_exporter": "python",
   "pygments_lexer": "ipython3",
   "version": "3.12.7"
  }
 },
 "nbformat": 4,
 "nbformat_minor": 4
}
