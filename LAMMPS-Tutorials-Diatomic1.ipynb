{
 "cells": [
  {
   "cell_type": "markdown",
   "metadata": {},
   "source": [
    "# LAMMPS Tutorials 02 nve. Running your first LAMMPS simulation!\n",
    "\n",
    "### Author: ABDELLAH TAHIRI \n",
    "\n",
    "Please contact me if you have a problem with this tutorial, so I can modify in Github.  I have added FAQs, and will update my versions of LAMMPS in the future to keep the scripts current.\n",
    "\n",
    "The latest version of this [Jupyter Notebook](http://ipython.org/notebook.html) tutorial is available at https://github.com/athiri78/DM/edit/main/LAMMPS-Tutorials.\n",
    "\n",
    "\n",
    "\n",
    "***"
   ]
  },
  {
   "cell_type": "markdown",
   "metadata": {},
   "source": [
    "## Description:\n",
    "<a id=\"Sec1\"></a>\n",
    "\n",
    "* The primary goal of this script is to perform energy minimization on a system of two types of atoms, arranged in specific cylindrical regions, and output thermodynamic data during the minimization process.\n",
    "\n",
    "* System Configuration:\n",
    "Two types of atoms are created in different regions: one type (type 1) in an outer cylindrical region and the other type (type 2) in an inner cylindrical region. The interaction between atoms is modeled using the Lennard-Jones potential with different parameters for type 1-1 and type 2-2 interactions.\n"
   ]
  },
  {
   "cell_type": "markdown",
   "metadata": {},
   "source": [
    "## Step 1: Download an Input File\n",
    "<a id=\"Step1\"></a>\n",
    "\n",
    "This input script was run using the Aug 2024 version of LAMMPS. Changes in some commands may require revision of the input script. To get the input file, you have a few options:\n",
    "\n",
    "*  Copy the text below and paste it into a text file, `Diatomic1.in`. Use the `Paste Special` command with unformatted text into the file. \n",
    "*  Or, I added the command `%%writefileDiatomic1.in` to the Jupyter Notebook which should just do everything for you!\n",
    "\n",
    "\n"
   ]
  },
  {
   "cell_type": "code",
   "execution_count": 1,
   "metadata": {},
   "outputs": [
    {
     "name": "stdout",
     "output_type": "stream",
     "text": [
      "Writing Diatomic1.in\n"
     ]
    }
   ],
   "source": [
    "%%writefile Diatomic1.in\n",
    "######################################\n",
    "#######################################################################\n",
    "# PART A - ENERGY MINIMIZATION\n",
    "#####################################################################\n",
    "# 1) Initialization\n",
    "units lj\n",
    "dimension 3\n",
    "atom_style atomic\n",
    "pair_style lj/cut 2.5\n",
    "boundary p p p\n",
    "######################\n",
    "# 2) System definition\n",
    "\n",
    "region simulation_box block -20 20 -20 20 -20 20\n",
    "create_box 2 simulation_box\n",
    "region region_cylinder_in cylinder z 0 0 10 INF INF side in\n",
    "region region_cylinder_out cylinder z 0 0 10 INF INF side out\n",
    "create_atoms 1 random 1000 341341 region_cylinder_out\n",
    "create_atoms 2 random 150 127569 region_cylinder_in\n",
    "\n",
    "##########################\n",
    "# 3) Simulation settings\n",
    "mass 1 1\n",
    "mass 2 1\n",
    "pair_coeff 1 1 1.0 1.0\n",
    "pair_coeff 2 2 0.5 3.0\n",
    "# 4) Visualization\n",
    "thermo 10\n",
    "thermo_style custom step temp pe ke etotal press\n",
    "dump mydmp all atom 10 dump.min.lammpstrj\n",
    "# 5) Run\n",
    "minimize 1.0e-4 1.0e-6 1000 10000\n",
    "write_data minimized_coordinate.data\n",
    "################################################################################\n",
    "\n",
    "\n",
    "# End of Script"
   ]
  },
  {
   "cell_type": "markdown",
   "metadata": {},
   "source": [
    "Awesome!  That little script should have written the above text to the file `nve.in`.  To check, let's execute a command on the present directory listing all files that end in `*.in`."
   ]
  },
  {
   "cell_type": "code",
   "execution_count": 4,
   "metadata": {},
   "outputs": [
    {
     "name": "stdout",
     "output_type": "stream",
     "text": [
      " Le volume dans le lecteur C n’a pas de nom.\n",
      " Le numéro de série du volume est DC02-C1A6\n",
      "\n",
      " Répertoire de C:\\Users\\pc\\Desktop\\M2A\n",
      "\n",
      "21/11/2024  10:17             1 774 calc_fcc.in\n",
      "12/11/2024  14:40             1 565 calc_fcc_ver1.in\n",
      "09/11/2024  14:10             1 233 calc_fcc_ver2.in\n",
      "03/12/2024  12:18             1 141 Diatomic.in\n",
      "03/12/2024  12:22             1 113 Diatomic1.in\n",
      "12/11/2024  16:49             1 177 lj.in\n",
      "12/11/2024  17:08               533 ljbarosta.in\n",
      "12/11/2024  17:19             1 389 ljovito.in\n",
      "12/11/2024  18:10             1 018 ljrdf.in\n",
      "12/11/2024  16:59               522 ljthermo.in\n",
      "25/11/2024  12:17             2 875 minimization.in\n",
      "25/11/2024  12:45             3 080 minimization1.in\n",
      "03/12/2024  11:44             1 141 mixed.in\n",
      "26/11/2024  15:15             3 352 nve.in\n",
      "26/11/2024  16:50             4 909 nve_npt_nvt.in\n",
      "23/11/2024  15:26             3 010 nvt.in\n",
      "              16 fichier(s)           29 832 octets\n",
      "               0 Rép(s)  164 537 499 648 octets libres\n"
     ]
    }
   ],
   "source": [
    "!dir *.in"
   ]
  },
  {
   "cell_type": "markdown",
   "metadata": {},
   "source": [
    "***\n",
    "## Step 2: Running LAMMPS\n",
    "### Run this using LAMMPS in Jupyter Notebook\n",
    "We can actually run this from Jupyter Notebook.  Let's try it."
   ]
  },
  {
   "cell_type": "code",
   "execution_count": 8,
   "metadata": {},
   "outputs": [
    {
     "name": "stdout",
     "output_type": "stream",
     "text": [
      "LAMMPS (29 Aug 2024 - Update 1)\n",
      "OMP_NUM_THREADS environment is not set. Defaulting to 1 thread. (src/comm.cpp:98)\n",
      "  using 1 OpenMP thread(s) per MPI task\n",
      "Loaded 1 plugins from C:\\LAMMPS 64-bit 29Aug2024\\plugins\n",
      "set 8 OpenMP thread(s) per MPI task\n",
      "using multi-threaded neighbor list subroutines\n",
      "Created orthogonal box = (-20 -20 -20) to (20 20 20)\n",
      "  1 by 1 by 1 MPI processor grid\n",
      "Created 1000 atoms\n",
      "  using lattice units in orthogonal box = (-20 -20 -20) to (20 20 20)\n",
      "  create_atoms CPU = 0.002 seconds\n",
      "Created 150 atoms\n",
      "  using lattice units in orthogonal box = (-20 -20 -20) to (20 20 20)\n",
      "  create_atoms CPU = 0.000 seconds\n",
      "Generated 1 of 1 mixed pair_coeff terms from geometric mixing rule\n",
      "Last active /omp style is pair_style lj/cut/omp\n",
      "Neighbor list info ...\n",
      "  update: every = 1 steps, delay = 0 steps, check = yes\n",
      "  max neighbors/atom: 2000, page size: 100000\n",
      "  master list distance cutoff = 2.8\n",
      "  ghost atom cutoff = 2.8\n",
      "  binsize = 1.4, bins = 29 29 29\n",
      "  1 neighbor lists, perpetual/occasional/extra = 1 0 0\n",
      "  (1) pair lj/cut/omp, perpetual\n",
      "      attributes: half, newton on, omp\n",
      "      pair build: half/bin/newton/atomonly/omp\n",
      "      stencil: half/bin/3d\n",
      "      bin: standard\n",
      "Setting up cg style minimization ...\n",
      "  Unit style    : lj\n",
      "  Current step  : 0\n",
      "Per MPI rank memory allocation (min/avg/max) = 10.52 | 10.52 | 10.52 Mbytes\n",
      "   Step          Temp          PotEng         KinEng         TotEng         Press     \n",
      "         0   0              1.3041584e+08  0              1.3041584e+08  9373668      \n",
      "        10   0              355.96756      0              355.96756      25.781662    \n",
      "        20   0              1.0371738      0              1.0371738      0.099248566  \n",
      "        30   0             -0.1393521      0             -0.1393521     -0.0020606973 \n",
      "        35   0             -0.13951504     0             -0.13951504    -0.0020598977 \n",
      "Loop time of 0.234347 on 8 procs for 35 steps with 1150 atoms\n",
      "\n",
      "113.3% CPU use with 1 MPI tasks x 8 OpenMP threads\n",
      "\n",
      "Minimization stats:\n",
      "  Stopping criterion = energy tolerance\n",
      "  Energy initial, next-to-last, final = \n",
      "       130415835.86347 -0.139505408164123 -0.139515037280512\n",
      "  Force two-norm initial, final = 1.6060783e+13 27.454523\n",
      "  Force max component initial, final = 1.0518609e+13 3.321963\n",
      "  Final line search alpha, max atom move = 1.4688051e-05 4.8793164e-05\n",
      "  Iterations, force evaluations = 35 140\n",
      "\n",
      "MPI task timing breakdown:\n",
      "Section |  min time  |  avg time  |  max time  |%varavg| %total\n",
      "---------------------------------------------------------------\n",
      "Pair    | 0.12257    | 0.12257    | 0.12257    |   0.0 | 52.30\n",
      "Neigh   | 0.008982   | 0.008982   | 0.008982   |   0.0 |  3.83\n",
      "Comm    | 0.00461    | 0.00461    | 0.00461    |   0.0 |  1.97\n",
      "Output  | 0.033909   | 0.033909   | 0.033909   |   0.0 | 14.47\n",
      "Modify  | 0.037839   | 0.037839   | 0.037839   |   0.0 | 16.15\n",
      "Other   |            | 0.02644    |            |       | 11.28\n",
      "\n",
      "Nlocal:           1150 ave        1150 max        1150 min\n",
      "Histogram: 1 0 0 0 0 0 0 0 0 0\n",
      "Nghost:            568 ave         568 max         568 min\n",
      "Histogram: 1 0 0 0 0 0 0 0 0 0\n",
      "Neighs:            935 ave         935 max         935 min\n",
      "Histogram: 1 0 0 0 0 0 0 0 0 0\n",
      "\n",
      "Total # of neighbors = 935\n",
      "Ave neighs/atom = 0.81304348\n",
      "Neighbor list builds = 10\n",
      "Dangerous builds = 0\n",
      "System init for write_data ...\n",
      "Generated 1 of 1 mixed pair_coeff terms from geometric mixing rule\n",
      "Last active /omp style is pair_style lj/cut/omp\n",
      "Total wall time: 0:00:00\n"
     ]
    }
   ],
   "source": [
    "!lmp -in Diatomic1.in  -pk omp 8 -sf omp "
   ]
  },
  {
   "cell_type": "markdown",
   "metadata": {},
   "source": [
    "Sweet!"
   ]
  },
  {
   "cell_type": "markdown",
   "metadata": {},
   "source": [
    "If you want to view the entire file (opening `log.lammps` in Notepad), then:"
   ]
  },
  {
   "cell_type": "code",
   "execution_count": 10,
   "metadata": {
    "scrolled": true
   },
   "outputs": [
    {
     "name": "stdout",
     "output_type": "stream",
     "text": [
      "LAMMPS (29 Aug 2024 - Update 1)\n",
      "OMP_NUM_THREADS environment is not set. Defaulting to 1 thread. (src/comm.cpp:98)\n",
      "  using 1 OpenMP thread(s) per MPI task\n",
      "Loaded 1 plugins from C:\\LAMMPS 64-bit 29Aug2024\\plugins\n",
      "package omp 8\n",
      "set 8 OpenMP thread(s) per MPI task\n",
      "using multi-threaded neighbor list subroutines\n",
      "######################################\n",
      "#######################################################################\n",
      "# PART A - ENERGY MINIMIZATION\n",
      "#####################################################################\n",
      "# 1) Initialization\n",
      "units lj\n",
      "dimension 3\n",
      "atom_style atomic\n",
      "pair_style lj/cut 2.5\n",
      "boundary p p p\n",
      "######################\n",
      "# 2) System definition\n",
      "\n",
      "region simulation_box block -20 20 -20 20 -20 20\n",
      "create_box 2 simulation_box\n",
      "Created orthogonal box = (-20 -20 -20) to (20 20 20)\n",
      "  1 by 1 by 1 MPI processor grid\n",
      "region region_cylinder_in cylinder z 0 0 10 INF INF side in\n",
      "region region_cylinder_out cylinder z 0 0 10 INF INF side out\n",
      "create_atoms 1 random 1000 341341 region_cylinder_out\n",
      "Created 1000 atoms\n",
      "  using lattice units in orthogonal box = (-20 -20 -20) to (20 20 20)\n",
      "  create_atoms CPU = 0.002 seconds\n",
      "create_atoms 2 random 150 127569 region_cylinder_in\n",
      "Created 150 atoms\n",
      "  using lattice units in orthogonal box = (-20 -20 -20) to (20 20 20)\n",
      "  create_atoms CPU = 0.000 seconds\n",
      "\n",
      "##########################\n",
      "# 3) Simulation settings\n",
      "mass 1 1\n",
      "mass 2 1\n",
      "pair_coeff 1 1 1.0 1.0\n",
      "pair_coeff 2 2 0.5 3.0\n",
      "# 4) Visualization\n",
      "thermo 10\n",
      "thermo_style custom step temp pe ke etotal press\n",
      "dump mydmp all atom 10 dump.min.lammpstrj\n",
      "# 5) Run\n",
      "minimize 1.0e-4 1.0e-6 1000 10000\n",
      "Generated 1 of 1 mixed pair_coeff terms from geometric mixing rule\n",
      "Last active /omp style is pair_style lj/cut/omp\n",
      "Neighbor list info ...\n",
      "  update: every = 1 steps, delay = 0 steps, check = yes\n",
      "  max neighbors/atom: 2000, page size: 100000\n",
      "  master list distance cutoff = 2.8\n",
      "  ghost atom cutoff = 2.8\n",
      "  binsize = 1.4, bins = 29 29 29\n",
      "  1 neighbor lists, perpetual/occasional/extra = 1 0 0\n",
      "  (1) pair lj/cut/omp, perpetual\n",
      "      attributes: half, newton on, omp\n",
      "      pair build: half/bin/newton/atomonly/omp\n",
      "      stencil: half/bin/3d\n",
      "      bin: standard\n",
      "Per MPI rank memory allocation (min/avg/max) = 10.52 | 10.52 | 10.52 Mbytes\n",
      "   Step          Temp          PotEng         KinEng         TotEng         Press     \n",
      "         0   0              1.3041584e+08  0              1.3041584e+08  9373668      \n",
      "        10   0              355.96756      0              355.96756      25.781662    \n",
      "        20   0              1.0371738      0              1.0371738      0.099248566  \n",
      "        30   0             -0.1393521      0             -0.1393521     -0.0020606973 \n",
      "        35   0             -0.13951504     0             -0.13951504    -0.0020598977 \n",
      "Loop time of 0.234347 on 8 procs for 35 steps with 1150 atoms\n",
      "\n",
      "113.3% CPU use with 1 MPI tasks x 8 OpenMP threads\n",
      "\n",
      "Minimization stats:\n",
      "  Stopping criterion = energy tolerance\n",
      "  Energy initial, next-to-last, final = \n",
      "       130415835.86347 -0.139505408164123 -0.139515037280512\n",
      "  Force two-norm initial, final = 1.6060783e+13 27.454523\n",
      "  Force max component initial, final = 1.0518609e+13 3.321963\n",
      "  Final line search alpha, max atom move = 1.4688051e-05 4.8793164e-05\n",
      "  Iterations, force evaluations = 35 140\n",
      "\n",
      "MPI task timing breakdown:\n",
      "Section |  min time  |  avg time  |  max time  |%varavg| %total\n",
      "---------------------------------------------------------------\n",
      "Pair    | 0.12257    | 0.12257    | 0.12257    |   0.0 | 52.30\n",
      "Neigh   | 0.008982   | 0.008982   | 0.008982   |   0.0 |  3.83\n",
      "Comm    | 0.00461    | 0.00461    | 0.00461    |   0.0 |  1.97\n",
      "Output  | 0.033909   | 0.033909   | 0.033909   |   0.0 | 14.47\n",
      "Modify  | 0.037839   | 0.037839   | 0.037839   |   0.0 | 16.15\n",
      "Other   |            | 0.02644    |            |       | 11.28\n",
      "\n",
      "Nlocal:           1150 ave        1150 max        1150 min\n",
      "Histogram: 1 0 0 0 0 0 0 0 0 0\n",
      "Nghost:            568 ave         568 max         568 min\n",
      "Histogram: 1 0 0 0 0 0 0 0 0 0\n",
      "Neighs:            935 ave         935 max         935 min\n",
      "Histogram: 1 0 0 0 0 0 0 0 0 0\n",
      "\n",
      "Total # of neighbors = 935\n",
      "Ave neighs/atom = 0.81304348\n",
      "Neighbor list builds = 10\n",
      "Dangerous builds = 0\n",
      "write_data minimized_coordinate.data\n",
      "System init for write_data ...\n",
      "Generated 1 of 1 mixed pair_coeff terms from geometric mixing rule\n",
      "Last active /omp style is pair_style lj/cut/omp\n",
      "################################################################################\n",
      "\n",
      "\n",
      "# End of Script\n",
      "Total wall time: 0:00:00\n"
     ]
    }
   ],
   "source": [
    "!type log.lammps"
   ]
  },
  {
   "cell_type": "markdown",
   "metadata": {},
   "source": [
    "## plot the graph with python code \n",
    "To plot the graphs for Kinetic Energy (KE) and Potential Energy (PE) as a function of the simulation steps with two different colors (e.g., red and blue), you can use Python and Matplotlib."
   ]
  },
  {
   "cell_type": "code",
   "execution_count": 28,
   "metadata": {
    "scrolled": true
   },
   "outputs": [
    {
     "name": "stdout",
     "output_type": "stream",
     "text": [
      "Thermo data successfully written to file.data\n"
     ]
    }
   ],
   "source": [
    "# Read LAMMPS log file and extract thermo data\n",
    "\n",
    "input_log_file = \"log.lammps\"  # Replace with the actual log file name\n",
    "output_data_file = \"file.data\"  # The output data file to be created\n",
    "\n",
    "# Columns to extract from the log file\n",
    "columns = [\"Step\", \"pe\", \"KE\", \"ETotal\", \"Temp\"]\n",
    "\n",
    "# Initialize storage for extracted data\n",
    "data = []\n",
    "\n",
    "with open(input_log_file, \"r\") as log:\n",
    "    capture = False\n",
    "    for line in log:\n",
    "        # Detect start of thermo output (header)\n",
    "        if \"Step\" in line and \"Temp\" in line:\n",
    "            capture = True\n",
    "            continue\n",
    "        \n",
    "        # Stop capturing after thermo ends\n",
    "        if capture and line.strip() == \"\":\n",
    "            capture = False\n",
    "        \n",
    "        # Capture thermo data lines\n",
    "        if capture:\n",
    "            parts = line.split()\n",
    "            try:\n",
    "                # Extract relevant numeric values\n",
    "                step = int(parts[0])\n",
    "                pe = float(parts[1])\n",
    "                ke = float(parts[2])\n",
    "                etotal = float(parts[3])\n",
    "                temp = float(parts[4])\n",
    "                data.append([step, pe, ke, etotal, temp])\n",
    "            except ValueError:\n",
    "                # Ignore non-numeric lines\n",
    "                continue\n",
    "\n",
    "# Save extracted data to file.data\n",
    "with open(output_data_file, \"w\") as output:\n",
    "    # Write header\n",
    "    output.write(\"# Step PE KE ETotal Temp\\n\")\n",
    "    # Write data rows\n",
    "    for row in data:\n",
    "        output.write(\" \".join(map(str, row)) + \"\\n\")\n",
    "\n",
    "print(f\"Thermo data successfully written to {output_data_file}\")\n"
   ]
  },
  {
   "cell_type": "code",
   "execution_count": 36,
   "metadata": {},
   "outputs": [
    {
     "data": {
      "image/png": "[encoded data removed]",
      "text/plain": [
       "<Figure size 1000x600 with 1 Axes>"
      ]
     },
     "metadata": {},
     "output_type": "display_data"
    }
   ],
   "source": [
    "import matplotlib.pyplot as plt\n",
    "import numpy as np\n",
    "\n",
    "# Load data from file.data\n",
    "input_file = \"file.data\"  # Replace with the file containing the data\n",
    "data = np.loadtxt(input_file, comments=\"#\")\n",
    "\n",
    "# Extract relevant columns: Step, KE, PE\n",
    "steps = data[:, 0]  # Column 0: Steps\n",
    "#ke = data[:, 2]     # Column 2: Kinetic Energy (KE)\n",
    "PE = data[:, 1]     # Column 1: Potential Energy (PE)\n",
    "\n",
    "# Create the plot\n",
    "plt.figure(figsize=(10, 6))\n",
    "\n",
    "# Plot KE with red line\n",
    "plt.plot(steps, Temp, color=\"red\", label=\"Potential Energy (PE) \", linewidth=2)\n",
    "\n",
    "# Plot PE with blue line\n",
    "#plt.plot(steps, pe, color=\"blue\", label=\"Potential Energy (PE)\", linewidth=2)\n",
    "\n",
    "# Add labels, title, and legend\n",
    "plt.xlabel(\"Simulation Step\", fontsize=14)\n",
    "plt.ylabel(\"Pe (GPa)\", fontsize=14)\n",
    "plt.title(\"Potential Energy vs. Simulation Step\", fontsize=16)\n",
    "plt.legend(fontsize=12)\n",
    "plt.grid(True)\n",
    "\n",
    "# Save the plot to a file (optional)\n",
    "#plt.savefig(\"energy_plot.png\", dpi=300)\n",
    "\n",
    "# Display the plot\n",
    "plt.show()\n"
   ]
  },
  {
   "cell_type": "code",
   "execution_count": 18,
   "metadata": {},
   "outputs": [],
   "source": [
    "## plot the graph with python code \n",
    "\n"
   ]
  },
  {
   "cell_type": "markdown",
   "metadata": {},
   "source": [
    "***\n",
    "## FAQs \n",
    "<br>\n",
    "<div class=\"alert alert-danger\">\n",
    "\n",
    "\n",
    "\n",
    "1- What would happen if you change the radius of the cylindrical regions (region_cylinder_in and region_cylinder_out) in the simulation? How could this impact the density and arrangement of atoms, and how could you visualize these changes using OVITO?\n",
    "\n",
    "2- How can you use OVITO software to visualize the trajectory of atoms , and what visualization techniques (e.g., atom color coding, radial distribution function)?\n",
    "\n",
    "\n",
    "\n"
   ]
  },
  {
   "cell_type": "code",
   "execution_count": null,
   "metadata": {},
   "outputs": [],
   "source": []
  },
  {
   "cell_type": "markdown",
   "metadata": {},
   "source": [
    "***\n",
    "## Tutorial Links\n",
    "\n",
    "[Click here to open the next tutorial](LAMMPS-Tutorials-02.ipynb)"
   ]
  }
 ],
 "metadata": {
  "kernelspec": {
   "display_name": "Python 3 (ipykernel)",
   "language": "python",
   "name": "python3"
  },
  "language_info": {
   "codemirror_mode": {
    "name": "ipython",
    "version": 3
   },
   "file_extension": ".py",
   "mimetype": "text/x-python",
   "name": "python",
   "nbconvert_exporter": "python",
   "pygments_lexer": "ipython3",
   "version": "3.12.7"
  }
 },
 "nbformat": 4,
 "nbformat_minor": 4
}
